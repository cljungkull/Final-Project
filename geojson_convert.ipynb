{
 "cells": [
  {
   "cell_type": "code",
   "execution_count": 1,
   "metadata": {},
   "outputs": [],
   "source": [
    "import pandas as pd\n",
    "import json"
   ]
  },
  {
   "cell_type": "code",
   "execution_count": 2,
   "metadata": {},
   "outputs": [
    {
     "data": {
      "text/html": [
       "<div>\n",
       "<style scoped>\n",
       "    .dataframe tbody tr th:only-of-type {\n",
       "        vertical-align: middle;\n",
       "    }\n",
       "\n",
       "    .dataframe tbody tr th {\n",
       "        vertical-align: top;\n",
       "    }\n",
       "\n",
       "    .dataframe thead th {\n",
       "        text-align: right;\n",
       "    }\n",
       "</style>\n",
       "<table border=\"1\" class=\"dataframe\">\n",
       "  <thead>\n",
       "    <tr style=\"text-align: right;\">\n",
       "      <th></th>\n",
       "      <th>time</th>\n",
       "      <th>mag</th>\n",
       "      <th>year</th>\n",
       "      <th>id</th>\n",
       "      <th>latitude</th>\n",
       "      <th>longitude</th>\n",
       "    </tr>\n",
       "  </thead>\n",
       "  <tbody>\n",
       "    <tr>\n",
       "      <th>0</th>\n",
       "      <td>4/25/2010 2:10</td>\n",
       "      <td>3.9</td>\n",
       "      <td>2010</td>\n",
       "      <td>usp000hbvf</td>\n",
       "      <td>27.7080</td>\n",
       "      <td>-97.845</td>\n",
       "    </tr>\n",
       "    <tr>\n",
       "      <th>1</th>\n",
       "      <td>3/24/1997 22:31</td>\n",
       "      <td>3.8</td>\n",
       "      <td>1997</td>\n",
       "      <td>usp0007zcf</td>\n",
       "      <td>27.7170</td>\n",
       "      <td>-98.054</td>\n",
       "    </tr>\n",
       "    <tr>\n",
       "      <th>2</th>\n",
       "      <td>4/3/2005 14:39</td>\n",
       "      <td>3.5</td>\n",
       "      <td>2005</td>\n",
       "      <td>usp000dm3z</td>\n",
       "      <td>28.3930</td>\n",
       "      <td>-100.305</td>\n",
       "    </tr>\n",
       "    <tr>\n",
       "      <th>3</th>\n",
       "      <td>4/9/1993 12:29</td>\n",
       "      <td>4.1</td>\n",
       "      <td>1993</td>\n",
       "      <td>usp0005qx9</td>\n",
       "      <td>28.8110</td>\n",
       "      <td>-98.124</td>\n",
       "    </tr>\n",
       "    <tr>\n",
       "      <th>4</th>\n",
       "      <td>1/6/2018 15:37</td>\n",
       "      <td>3.6</td>\n",
       "      <td>2018</td>\n",
       "      <td>us1000c1fk</td>\n",
       "      <td>28.8497</td>\n",
       "      <td>-98.119</td>\n",
       "    </tr>\n",
       "  </tbody>\n",
       "</table>\n",
       "</div>"
      ],
      "text/plain": [
       "              time  mag  year          id  latitude  longitude\n",
       "0   4/25/2010 2:10  3.9  2010  usp000hbvf   27.7080    -97.845\n",
       "1  3/24/1997 22:31  3.8  1997  usp0007zcf   27.7170    -98.054\n",
       "2   4/3/2005 14:39  3.5  2005  usp000dm3z   28.3930   -100.305\n",
       "3   4/9/1993 12:29  4.1  1993  usp0005qx9   28.8110    -98.124\n",
       "4   1/6/2018 15:37  3.6  2018  us1000c1fk   28.8497    -98.119"
      ]
     },
     "execution_count": 2,
     "metadata": {},
     "output_type": "execute_result"
    }
   ],
   "source": [
    "quakes = pd.read_csv('full_quake v3.csv')\n",
    "quakes.head()"
   ]
  },
  {
   "cell_type": "code",
   "execution_count": 3,
   "metadata": {},
   "outputs": [],
   "source": [
    "def df_to_geojson(df, properties, lat='latitude', lon='longitude'):\n",
    "    geojson = {'type':'FeatureCollection', 'features':[]}\n",
    "    for _, row in df.iterrows():\n",
    "        feature = {'type':'Feature',\n",
    "                   'properties':{},\n",
    "                   'geometry':{'type':'Point',\n",
    "                               'coordinates':[]}}\n",
    "        feature['geometry']['coordinates'] = [row[lon],row[lat]]\n",
    "        for prop in properties:\n",
    "            feature['properties'][prop] = row[prop]\n",
    "        geojson['features'].append(feature)\n",
    "    return geojson"
   ]
  },
  {
   "cell_type": "code",
   "execution_count": 4,
   "metadata": {},
   "outputs": [],
   "source": [
    "cols = ['time', 'mag', 'year', 'id']\n",
    "geojson_dict = df_to_geojson(quakes, cols)"
   ]
  },
  {
   "cell_type": "code",
   "execution_count": 6,
   "metadata": {},
   "outputs": [],
   "source": [
    "geojson_str = json.dumps(geojson_dict, indent=2)\n",
    "\n",
    "output_filename = 'quakedataset.js'\n",
    "with open(output_filename, 'w') as output_file:\n",
    "    output_file.write('var dataset = {};'.format(geojson_str))"
   ]
  },
  {
   "cell_type": "code",
   "execution_count": null,
   "metadata": {},
   "outputs": [],
   "source": []
  }
 ],
 "metadata": {
  "kernelspec": {
   "display_name": "Python 3",
   "language": "python",
   "name": "python3"
  },
  "language_info": {
   "codemirror_mode": {
    "name": "ipython",
    "version": 3
   },
   "file_extension": ".py",
   "mimetype": "text/x-python",
   "name": "python",
   "nbconvert_exporter": "python",
   "pygments_lexer": "ipython3",
   "version": "3.6.8"
  }
 },
 "nbformat": 4,
 "nbformat_minor": 2
}
